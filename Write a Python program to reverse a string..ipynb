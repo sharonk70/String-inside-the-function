{
 "cells": [
  {
   "cell_type": "code",
   "execution_count": 5,
   "id": "62b420fd",
   "metadata": {},
   "outputs": [],
   "source": [
    "def reversestring(str):\n",
    "    string = \" \"\n",
    "    for i in str:\n",
    "        string = i + string\n",
    "    return string"
   ]
  },
  {
   "cell_type": "code",
   "execution_count": 6,
   "id": "a39d4682",
   "metadata": {},
   "outputs": [
    {
     "name": "stdout",
     "output_type": "stream",
     "text": [
      "original string: 1234abcd\n",
      "reverse string: dcba4321 \n"
     ]
    }
   ],
   "source": [
    "str = \"1234abcd\"\n",
    "print(\"original string:\",str)\n",
    "print(\"reverse string:\", reversestring(str)) "
   ]
  },
  {
   "cell_type": "code",
   "execution_count": 7,
   "id": "715b7942",
   "metadata": {},
   "outputs": [
    {
     "name": "stdout",
     "output_type": "stream",
     "text": [
      "original string: EDYODA\n",
      "reverse string: ADOYDE \n"
     ]
    }
   ],
   "source": [
    "str = \"EDYODA\"\n",
    "print(\"original string:\",str)\n",
    "print(\"reverse string:\", reversestring(str)) "
   ]
  },
  {
   "cell_type": "code",
   "execution_count": null,
   "id": "817e4613",
   "metadata": {},
   "outputs": [],
   "source": []
  }
 ],
 "metadata": {
  "kernelspec": {
   "display_name": "Python 3",
   "language": "python",
   "name": "python3"
  },
  "language_info": {
   "codemirror_mode": {
    "name": "ipython",
    "version": 3
   },
   "file_extension": ".py",
   "mimetype": "text/x-python",
   "name": "python",
   "nbconvert_exporter": "python",
   "pygments_lexer": "ipython3",
   "version": "3.8.8"
  }
 },
 "nbformat": 4,
 "nbformat_minor": 5
}
